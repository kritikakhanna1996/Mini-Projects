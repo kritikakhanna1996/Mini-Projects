{
 "cells": [
  {
   "cell_type": "markdown",
   "metadata": {},
   "source": [
    "<h1 class=\"list-group-item list-group-item-action active\" data-toggle=\"list\"  role=\"tab\" aria-controls=\"home\">Exploratory Data Analysis Mini Project </h1>\n",
    "     \n"
   ]
  },
  {
   "cell_type": "markdown",
   "metadata": {},
   "source": [
    "<h4 class=\"list-group-item list-group-item-action active\" >1. DESCRIPTIVE STATISTICS</h4>\n",
    "\n",
    ">#### 1. Create a dataframe using below data and answer the below questions:\n",
    "\n",
    "        Hourly_Income = [1000,2009,24418,444478,324235,243242,3434234,7567457,9235,238237,1312,3412]\n",
    "        Hourly_Expense =  [651361,217371,2746,2356,13436,5732,346346,3463,1132,23534,242235,235235]\n",
    "        family_members_count = [3,4,2,3,1,4,5,6,3,6,3,5]\n",
    "        House_rent = [1299,2300,3411,3422,4566,4211,4600,736,672,0,734,2374]\n",
    "        Highest_income_Member = [\"Olivia\",\"George\",\"Isla\",\"Harry\",\"Ava\",\"Noah\",\"Sophia\",\"Jacobi\",\"Freddie\",\"Ella\",\"Grace\",\"Ella\"]\n",
    "        \n",
    "        \n",
    ">##### A. Display the five point summary of the data. \n",
    ">##### B. What is the mean of the hourly expense?\n",
    ">##### C. What is the median of the hourly expense?\n",
    ">##### D. Find the family member with maximum income and using a suitable graph.\n",
    ">##### E. Calculate IQR(the difference between 75% and 25% quartile) for `Hourly_Income` and `Hourly_Expense`.\n",
    ">##### F. Calculate the standard deviation for first 2 columns.\n",
    ">##### G. Calculate variance for the first 4 columns"
   ]
  },
  {
   "cell_type": "code",
   "execution_count": 2,
   "metadata": {},
   "outputs": [],
   "source": [
    "import numpy as np\n",
    "import pandas as pd\n",
    "import seaborn as sns\n",
    "import matplotlib.pyplot as plt"
   ]
  },
  {
   "cell_type": "code",
   "execution_count": 3,
   "metadata": {},
   "outputs": [
    {
     "data": {
      "text/html": [
       "<div>\n",
       "<style scoped>\n",
       "    .dataframe tbody tr th:only-of-type {\n",
       "        vertical-align: middle;\n",
       "    }\n",
       "\n",
       "    .dataframe tbody tr th {\n",
       "        vertical-align: top;\n",
       "    }\n",
       "\n",
       "    .dataframe thead th {\n",
       "        text-align: right;\n",
       "    }\n",
       "</style>\n",
       "<table border=\"1\" class=\"dataframe\">\n",
       "  <thead>\n",
       "    <tr style=\"text-align: right;\">\n",
       "      <th></th>\n",
       "      <th>Hourly_Income</th>\n",
       "      <th>Hourly_Expense</th>\n",
       "      <th>family_members_count</th>\n",
       "      <th>House_rent</th>\n",
       "      <th>Highest_income_Member</th>\n",
       "    </tr>\n",
       "  </thead>\n",
       "  <tbody>\n",
       "    <tr>\n",
       "      <th>0</th>\n",
       "      <td>1000</td>\n",
       "      <td>651361</td>\n",
       "      <td>3</td>\n",
       "      <td>1299</td>\n",
       "      <td>Olivia</td>\n",
       "    </tr>\n",
       "    <tr>\n",
       "      <th>1</th>\n",
       "      <td>2009</td>\n",
       "      <td>217371</td>\n",
       "      <td>4</td>\n",
       "      <td>2300</td>\n",
       "      <td>George</td>\n",
       "    </tr>\n",
       "    <tr>\n",
       "      <th>2</th>\n",
       "      <td>24418</td>\n",
       "      <td>2746</td>\n",
       "      <td>2</td>\n",
       "      <td>3411</td>\n",
       "      <td>Isla</td>\n",
       "    </tr>\n",
       "    <tr>\n",
       "      <th>3</th>\n",
       "      <td>444478</td>\n",
       "      <td>2356</td>\n",
       "      <td>3</td>\n",
       "      <td>3422</td>\n",
       "      <td>Harry</td>\n",
       "    </tr>\n",
       "    <tr>\n",
       "      <th>4</th>\n",
       "      <td>324235</td>\n",
       "      <td>13436</td>\n",
       "      <td>1</td>\n",
       "      <td>4566</td>\n",
       "      <td>Ava</td>\n",
       "    </tr>\n",
       "    <tr>\n",
       "      <th>5</th>\n",
       "      <td>243242</td>\n",
       "      <td>5732</td>\n",
       "      <td>4</td>\n",
       "      <td>4211</td>\n",
       "      <td>Noah</td>\n",
       "    </tr>\n",
       "    <tr>\n",
       "      <th>6</th>\n",
       "      <td>3434234</td>\n",
       "      <td>346346</td>\n",
       "      <td>5</td>\n",
       "      <td>4600</td>\n",
       "      <td>Sophia</td>\n",
       "    </tr>\n",
       "    <tr>\n",
       "      <th>7</th>\n",
       "      <td>7567457</td>\n",
       "      <td>3463</td>\n",
       "      <td>6</td>\n",
       "      <td>736</td>\n",
       "      <td>Jacobi</td>\n",
       "    </tr>\n",
       "    <tr>\n",
       "      <th>8</th>\n",
       "      <td>9235</td>\n",
       "      <td>1132</td>\n",
       "      <td>3</td>\n",
       "      <td>672</td>\n",
       "      <td>Freddie</td>\n",
       "    </tr>\n",
       "    <tr>\n",
       "      <th>9</th>\n",
       "      <td>238237</td>\n",
       "      <td>23534</td>\n",
       "      <td>6</td>\n",
       "      <td>0</td>\n",
       "      <td>Ella</td>\n",
       "    </tr>\n",
       "    <tr>\n",
       "      <th>10</th>\n",
       "      <td>1312</td>\n",
       "      <td>242235</td>\n",
       "      <td>3</td>\n",
       "      <td>734</td>\n",
       "      <td>Grace</td>\n",
       "    </tr>\n",
       "    <tr>\n",
       "      <th>11</th>\n",
       "      <td>3412</td>\n",
       "      <td>235235</td>\n",
       "      <td>5</td>\n",
       "      <td>2374</td>\n",
       "      <td>Ella</td>\n",
       "    </tr>\n",
       "  </tbody>\n",
       "</table>\n",
       "</div>"
      ],
      "text/plain": [
       "    Hourly_Income  Hourly_Expense  family_members_count  House_rent  \\\n",
       "0            1000          651361                     3        1299   \n",
       "1            2009          217371                     4        2300   \n",
       "2           24418            2746                     2        3411   \n",
       "3          444478            2356                     3        3422   \n",
       "4          324235           13436                     1        4566   \n",
       "5          243242            5732                     4        4211   \n",
       "6         3434234          346346                     5        4600   \n",
       "7         7567457            3463                     6         736   \n",
       "8            9235            1132                     3         672   \n",
       "9          238237           23534                     6           0   \n",
       "10           1312          242235                     3         734   \n",
       "11           3412          235235                     5        2374   \n",
       "\n",
       "   Highest_income_Member  \n",
       "0                 Olivia  \n",
       "1                 George  \n",
       "2                   Isla  \n",
       "3                  Harry  \n",
       "4                    Ava  \n",
       "5                   Noah  \n",
       "6                 Sophia  \n",
       "7                 Jacobi  \n",
       "8                Freddie  \n",
       "9                   Ella  \n",
       "10                 Grace  \n",
       "11                  Ella  "
      ]
     },
     "execution_count": 3,
     "metadata": {},
     "output_type": "execute_result"
    }
   ],
   "source": [
    "data={'Hourly_Income':[1000,2009,24418,444478,324235,243242,3434234,7567457,9235,238237,1312,3412],\n",
    "'Hourly_Expense':[651361,217371,2746,2356,13436,5732,346346,3463,1132,23534,242235,235235],\n",
    "'family_members_count':[3,4,2,3,1,4,5,6,3,6,3,5],\n",
    "'House_rent':[1299,2300,3411,3422,4566,4211,4600,736,672,0,734,2374],\n",
    "'Highest_income_Member':[\"Olivia\",\"George\",\"Isla\",\"Harry\",\"Ava\",\"Noah\",\"Sophia\",\"Jacobi\",\"Freddie\",\"Ella\",\"Grace\",\"Ella\"]}\n",
    "\n",
    "df=pd.DataFrame(data)\n",
    "df"
   ]
  },
  {
   "cell_type": "code",
   "execution_count": 4,
   "metadata": {},
   "outputs": [
    {
     "data": {
      "text/html": [
       "<div>\n",
       "<style scoped>\n",
       "    .dataframe tbody tr th:only-of-type {\n",
       "        vertical-align: middle;\n",
       "    }\n",
       "\n",
       "    .dataframe tbody tr th {\n",
       "        vertical-align: top;\n",
       "    }\n",
       "\n",
       "    .dataframe thead th {\n",
       "        text-align: right;\n",
       "    }\n",
       "</style>\n",
       "<table border=\"1\" class=\"dataframe\">\n",
       "  <thead>\n",
       "    <tr style=\"text-align: right;\">\n",
       "      <th></th>\n",
       "      <th>Hourly_Income</th>\n",
       "      <th>Hourly_Expense</th>\n",
       "      <th>family_members_count</th>\n",
       "      <th>House_rent</th>\n",
       "    </tr>\n",
       "  </thead>\n",
       "  <tbody>\n",
       "    <tr>\n",
       "      <th>count</th>\n",
       "      <td>1.200000e+01</td>\n",
       "      <td>12.000000</td>\n",
       "      <td>12.000000</td>\n",
       "      <td>12.000000</td>\n",
       "    </tr>\n",
       "    <tr>\n",
       "      <th>mean</th>\n",
       "      <td>1.024439e+06</td>\n",
       "      <td>145412.250000</td>\n",
       "      <td>3.750000</td>\n",
       "      <td>2360.416667</td>\n",
       "    </tr>\n",
       "    <tr>\n",
       "      <th>std</th>\n",
       "      <td>2.274083e+06</td>\n",
       "      <td>202831.565333</td>\n",
       "      <td>1.544786</td>\n",
       "      <td>1661.663813</td>\n",
       "    </tr>\n",
       "    <tr>\n",
       "      <th>min</th>\n",
       "      <td>1.000000e+03</td>\n",
       "      <td>1132.000000</td>\n",
       "      <td>1.000000</td>\n",
       "      <td>0.000000</td>\n",
       "    </tr>\n",
       "    <tr>\n",
       "      <th>25%</th>\n",
       "      <td>3.061250e+03</td>\n",
       "      <td>3283.750000</td>\n",
       "      <td>3.000000</td>\n",
       "      <td>735.500000</td>\n",
       "    </tr>\n",
       "    <tr>\n",
       "      <th>50%</th>\n",
       "      <td>1.313275e+05</td>\n",
       "      <td>18485.000000</td>\n",
       "      <td>3.500000</td>\n",
       "      <td>2337.000000</td>\n",
       "    </tr>\n",
       "    <tr>\n",
       "      <th>75%</th>\n",
       "      <td>3.542958e+05</td>\n",
       "      <td>236985.000000</td>\n",
       "      <td>5.000000</td>\n",
       "      <td>3619.250000</td>\n",
       "    </tr>\n",
       "    <tr>\n",
       "      <th>max</th>\n",
       "      <td>7.567457e+06</td>\n",
       "      <td>651361.000000</td>\n",
       "      <td>6.000000</td>\n",
       "      <td>4600.000000</td>\n",
       "    </tr>\n",
       "  </tbody>\n",
       "</table>\n",
       "</div>"
      ],
      "text/plain": [
       "       Hourly_Income  Hourly_Expense  family_members_count   House_rent\n",
       "count   1.200000e+01       12.000000             12.000000    12.000000\n",
       "mean    1.024439e+06   145412.250000              3.750000  2360.416667\n",
       "std     2.274083e+06   202831.565333              1.544786  1661.663813\n",
       "min     1.000000e+03     1132.000000              1.000000     0.000000\n",
       "25%     3.061250e+03     3283.750000              3.000000   735.500000\n",
       "50%     1.313275e+05    18485.000000              3.500000  2337.000000\n",
       "75%     3.542958e+05   236985.000000              5.000000  3619.250000\n",
       "max     7.567457e+06   651361.000000              6.000000  4600.000000"
      ]
     },
     "execution_count": 4,
     "metadata": {},
     "output_type": "execute_result"
    }
   ],
   "source": [
    "#A. Display the five point summary of the data.\n",
    "df.describe()"
   ]
  },
  {
   "cell_type": "code",
   "execution_count": 5,
   "metadata": {},
   "outputs": [
    {
     "data": {
      "text/plain": [
       "145412.25"
      ]
     },
     "execution_count": 5,
     "metadata": {},
     "output_type": "execute_result"
    }
   ],
   "source": [
    "#B. What is the mean of the hourly expense?\n",
    "df.Hourly_Expense.mean()"
   ]
  },
  {
   "cell_type": "code",
   "execution_count": 6,
   "metadata": {},
   "outputs": [
    {
     "data": {
      "text/plain": [
       "18485.0"
      ]
     },
     "execution_count": 6,
     "metadata": {},
     "output_type": "execute_result"
    }
   ],
   "source": [
    "#C. What is the median of the hourly expense?\n",
    "df.Hourly_Expense.median()"
   ]
  },
  {
   "cell_type": "code",
   "execution_count": 7,
   "metadata": {},
   "outputs": [
    {
     "name": "stdout",
     "output_type": "stream",
     "text": [
      "Highest Income = 7567457\n"
     ]
    },
    {
     "data": {
      "image/png": "[encoded data removed]",
      "text/plain": [
       "<Figure size 720x360 with 1 Axes>"
      ]
     },
     "metadata": {
      "needs_background": "light"
     },
     "output_type": "display_data"
    }
   ],
   "source": [
    "#D. Find the family member with maximum income and using a suitable graph.\n",
    "print('Highest Income =',df['Hourly_Income'].max())\n",
    "plt.figure(figsize=(10,5))\n",
    "sns.barplot(x='Highest_income_Member',y='Hourly_Income',data=df);\n",
    "#Jacobi is the member with the Highest Income = 7567457"
   ]
  },
  {
   "cell_type": "code",
   "execution_count": 8,
   "metadata": {},
   "outputs": [
    {
     "data": {
      "text/plain": [
       "351234.5"
      ]
     },
     "execution_count": 8,
     "metadata": {},
     "output_type": "execute_result"
    }
   ],
   "source": [
    "#E. Calculate IQR(the difference between 75% and 25% quartile) for Hourly_Income and Hourly_Expense\n",
    "q1=df.Hourly_Income.quantile(0.25)\n",
    "q3=df.Hourly_Income.quantile(0.75)\n",
    "IQR_Hourly_Income=q3-q1\n",
    "IQR_Hourly_Income"
   ]
  },
  {
   "cell_type": "code",
   "execution_count": 9,
   "metadata": {},
   "outputs": [
    {
     "data": {
      "text/plain": [
       "233701.25"
      ]
     },
     "execution_count": 9,
     "metadata": {},
     "output_type": "execute_result"
    }
   ],
   "source": [
    "q1=df.Hourly_Expense.quantile(0.25)\n",
    "q3=df.Hourly_Expense.quantile(0.75)\n",
    "IQR_Hourly_Expense=q3-q1\n",
    "IQR_Hourly_Expense"
   ]
  },
  {
   "cell_type": "code",
   "execution_count": 10,
   "metadata": {},
   "outputs": [
    {
     "name": "stdout",
     "output_type": "stream",
     "text": [
      "Standard deviation of Hourly_Income = 2274082.75\n",
      "Standard deviation of Hourly_Expense = 202831.57\n"
     ]
    }
   ],
   "source": [
    "#F. Calculate the standard deviation for first 2 columns.\n",
    "print('Standard deviation of Hourly_Income =', round(df.Hourly_Income.std(),2))\n",
    "print('Standard deviation of Hourly_Expense =',round(df.Hourly_Expense.std(),2))"
   ]
  },
  {
   "cell_type": "code",
   "execution_count": 11,
   "metadata": {},
   "outputs": [
    {
     "name": "stdout",
     "output_type": "stream",
     "text": [
      "Variance of Hourly_Income = 5171452352512.26\n",
      "Variance of Hourly_Expense = 41140643895.3\n",
      "Variance of family_members_count = 2.39\n",
      "Variance of House_rent = 2761126.63\n"
     ]
    }
   ],
   "source": [
    "#G. Calculate variance for the first 4 columns\n",
    "print('Variance of Hourly_Income =', round(df.Hourly_Income.var(),2))\n",
    "print('Variance of Hourly_Expense =',round(df.Hourly_Expense.var(),2))\n",
    "print('Variance of family_members_count =', round(df.family_members_count.var(),2))\n",
    "print('Variance of House_rent =',round(df.House_rent.var(),2))"
   ]
  },
  {
   "cell_type": "markdown",
   "metadata": {},
   "source": [
    "<h4 class=\"list-group-item list-group-item-action active\" >2. Preliminary Wrangling,</h4>\n",
    "\n",
    ">### Dataset Information: \n",
    "\n",
    "Dataset recording people to invest in each other in a way that is financially and socially rewarding. On loans, borrowers list loan requests between $ 2,000 and $ 35,000 and individual investors invest as little as $ 25 in each loan listing they select. Prosper handles the servicing of the loan on behalf of the matched borrowers and investors.\n",
    "\n",
    "\n",
    "\n",
    "\n",
    ">#### A. Read the dataset called Pri-Load.csv\n",
    ">#### B.  Check the data type and adjust datatype for all other categorical columns.\n",
    ">#### C. If you find any of the missing values in the ProsperRating column, then drop it.\n",
    "\n"
   ]
  },
  {
   "cell_type": "code",
   "execution_count": 12,
   "metadata": {},
   "outputs": [
    {
     "data": {
      "text/html": [
       "<div>\n",
       "<style scoped>\n",
       "    .dataframe tbody tr th:only-of-type {\n",
       "        vertical-align: middle;\n",
       "    }\n",
       "\n",
       "    .dataframe tbody tr th {\n",
       "        vertical-align: top;\n",
       "    }\n",
       "\n",
       "    .dataframe thead th {\n",
       "        text-align: right;\n",
       "    }\n",
       "</style>\n",
       "<table border=\"1\" class=\"dataframe\">\n",
       "  <thead>\n",
       "    <tr style=\"text-align: right;\">\n",
       "      <th></th>\n",
       "      <th>ListingCreationDate</th>\n",
       "      <th>Term</th>\n",
       "      <th>LoanStatus</th>\n",
       "      <th>ClosedDate</th>\n",
       "      <th>BorrowerAPR</th>\n",
       "      <th>BorrowerRate</th>\n",
       "      <th>LenderYield</th>\n",
       "      <th>ProsperRating (Alpha)</th>\n",
       "      <th>ProsperScore</th>\n",
       "      <th>ListingCategory (numeric)</th>\n",
       "      <th>BorrowerState</th>\n",
       "      <th>Occupation</th>\n",
       "      <th>EmploymentStatus</th>\n",
       "      <th>AmountDelinquent</th>\n",
       "      <th>StatedMonthlyIncome</th>\n",
       "      <th>LoanCurrentDaysDelinquent</th>\n",
       "      <th>LoanOriginalAmount</th>\n",
       "      <th>LoanOriginationDate</th>\n",
       "      <th>LoanOriginationQuarter</th>\n",
       "      <th>MonthlyLoanPayment</th>\n",
       "      <th>LP_InterestandFees</th>\n",
       "      <th>Investors</th>\n",
       "    </tr>\n",
       "  </thead>\n",
       "  <tbody>\n",
       "    <tr>\n",
       "      <th>0</th>\n",
       "      <td>2007-08-26 19:09:29.263000000</td>\n",
       "      <td>36</td>\n",
       "      <td>Completed</td>\n",
       "      <td>14-08-2009 0.00</td>\n",
       "      <td>0.16516</td>\n",
       "      <td>0.1580</td>\n",
       "      <td>0.1380</td>\n",
       "      <td>NaN</td>\n",
       "      <td>NaN</td>\n",
       "      <td>0</td>\n",
       "      <td>CO</td>\n",
       "      <td>Other</td>\n",
       "      <td>Self-employed</td>\n",
       "      <td>472.0</td>\n",
       "      <td>3083.333333</td>\n",
       "      <td>0</td>\n",
       "      <td>9425</td>\n",
       "      <td>12-09-2007 0.00</td>\n",
       "      <td>Q3 2007</td>\n",
       "      <td>330.43</td>\n",
       "      <td>1971.14</td>\n",
       "      <td>258</td>\n",
       "    </tr>\n",
       "    <tr>\n",
       "      <th>1</th>\n",
       "      <td>2014-02-27 08:28:07.900000000</td>\n",
       "      <td>36</td>\n",
       "      <td>Current</td>\n",
       "      <td>NaN</td>\n",
       "      <td>0.12016</td>\n",
       "      <td>0.0920</td>\n",
       "      <td>0.0820</td>\n",
       "      <td>A</td>\n",
       "      <td>7.0</td>\n",
       "      <td>2</td>\n",
       "      <td>CO</td>\n",
       "      <td>Professional</td>\n",
       "      <td>Employed</td>\n",
       "      <td>0.0</td>\n",
       "      <td>6125.000000</td>\n",
       "      <td>0</td>\n",
       "      <td>10000</td>\n",
       "      <td>03-03-2014 0.00</td>\n",
       "      <td>Q1 2014</td>\n",
       "      <td>318.93</td>\n",
       "      <td>0.00</td>\n",
       "      <td>1</td>\n",
       "    </tr>\n",
       "    <tr>\n",
       "      <th>2</th>\n",
       "      <td>2007-01-05 15:00:47.090000000</td>\n",
       "      <td>36</td>\n",
       "      <td>Completed</td>\n",
       "      <td>17-12-2009 0.00</td>\n",
       "      <td>0.28269</td>\n",
       "      <td>0.2750</td>\n",
       "      <td>0.2400</td>\n",
       "      <td>NaN</td>\n",
       "      <td>NaN</td>\n",
       "      <td>0</td>\n",
       "      <td>GA</td>\n",
       "      <td>Other</td>\n",
       "      <td>Not available</td>\n",
       "      <td>NaN</td>\n",
       "      <td>2083.333333</td>\n",
       "      <td>0</td>\n",
       "      <td>3001</td>\n",
       "      <td>17-01-2007 0.00</td>\n",
       "      <td>Q1 2007</td>\n",
       "      <td>123.32</td>\n",
       "      <td>1185.63</td>\n",
       "      <td>41</td>\n",
       "    </tr>\n",
       "    <tr>\n",
       "      <th>3</th>\n",
       "      <td>2012-10-22 11:02:35.010000000</td>\n",
       "      <td>36</td>\n",
       "      <td>Current</td>\n",
       "      <td>NaN</td>\n",
       "      <td>0.12528</td>\n",
       "      <td>0.0974</td>\n",
       "      <td>0.0874</td>\n",
       "      <td>A</td>\n",
       "      <td>9.0</td>\n",
       "      <td>16</td>\n",
       "      <td>GA</td>\n",
       "      <td>Skilled Labor</td>\n",
       "      <td>Employed</td>\n",
       "      <td>10056.0</td>\n",
       "      <td>2875.000000</td>\n",
       "      <td>0</td>\n",
       "      <td>10000</td>\n",
       "      <td>01-11-2012 0.00</td>\n",
       "      <td>Q4 2012</td>\n",
       "      <td>321.45</td>\n",
       "      <td>1052.11</td>\n",
       "      <td>158</td>\n",
       "    </tr>\n",
       "    <tr>\n",
       "      <th>4</th>\n",
       "      <td>2013-09-14 18:38:39.097000000</td>\n",
       "      <td>36</td>\n",
       "      <td>Current</td>\n",
       "      <td>NaN</td>\n",
       "      <td>0.24614</td>\n",
       "      <td>0.2085</td>\n",
       "      <td>0.1985</td>\n",
       "      <td>D</td>\n",
       "      <td>4.0</td>\n",
       "      <td>2</td>\n",
       "      <td>MN</td>\n",
       "      <td>Executive</td>\n",
       "      <td>Employed</td>\n",
       "      <td>0.0</td>\n",
       "      <td>9583.333333</td>\n",
       "      <td>0</td>\n",
       "      <td>15000</td>\n",
       "      <td>20-09-2013 0.00</td>\n",
       "      <td>Q3 2013</td>\n",
       "      <td>563.97</td>\n",
       "      <td>1256.63</td>\n",
       "      <td>20</td>\n",
       "    </tr>\n",
       "  </tbody>\n",
       "</table>\n",
       "</div>"
      ],
      "text/plain": [
       "             ListingCreationDate  Term LoanStatus       ClosedDate  \\\n",
       "0  2007-08-26 19:09:29.263000000    36  Completed  14-08-2009 0.00   \n",
       "1  2014-02-27 08:28:07.900000000    36    Current              NaN   \n",
       "2  2007-01-05 15:00:47.090000000    36  Completed  17-12-2009 0.00   \n",
       "3  2012-10-22 11:02:35.010000000    36    Current              NaN   \n",
       "4  2013-09-14 18:38:39.097000000    36    Current              NaN   \n",
       "\n",
       "   BorrowerAPR  BorrowerRate  LenderYield ProsperRating (Alpha)  ProsperScore  \\\n",
       "0      0.16516        0.1580       0.1380                   NaN           NaN   \n",
       "1      0.12016        0.0920       0.0820                     A           7.0   \n",
       "2      0.28269        0.2750       0.2400                   NaN           NaN   \n",
       "3      0.12528        0.0974       0.0874                     A           9.0   \n",
       "4      0.24614        0.2085       0.1985                     D           4.0   \n",
       "\n",
       "   ListingCategory (numeric) BorrowerState     Occupation EmploymentStatus  \\\n",
       "0                          0            CO          Other    Self-employed   \n",
       "1                          2            CO   Professional         Employed   \n",
       "2                          0            GA          Other    Not available   \n",
       "3                         16            GA  Skilled Labor         Employed   \n",
       "4                          2            MN      Executive         Employed   \n",
       "\n",
       "   AmountDelinquent  StatedMonthlyIncome  LoanCurrentDaysDelinquent  \\\n",
       "0             472.0          3083.333333                          0   \n",
       "1               0.0          6125.000000                          0   \n",
       "2               NaN          2083.333333                          0   \n",
       "3           10056.0          2875.000000                          0   \n",
       "4               0.0          9583.333333                          0   \n",
       "\n",
       "   LoanOriginalAmount LoanOriginationDate LoanOriginationQuarter  \\\n",
       "0                9425     12-09-2007 0.00                Q3 2007   \n",
       "1               10000     03-03-2014 0.00                Q1 2014   \n",
       "2                3001     17-01-2007 0.00                Q1 2007   \n",
       "3               10000     01-11-2012 0.00                Q4 2012   \n",
       "4               15000     20-09-2013 0.00                Q3 2013   \n",
       "\n",
       "   MonthlyLoanPayment  LP_InterestandFees  Investors  \n",
       "0              330.43             1971.14        258  \n",
       "1              318.93                0.00          1  \n",
       "2              123.32             1185.63         41  \n",
       "3              321.45             1052.11        158  \n",
       "4              563.97             1256.63         20  "
      ]
     },
     "execution_count": 12,
     "metadata": {},
     "output_type": "execute_result"
    }
   ],
   "source": [
    "#A. Read the dataset called Pri-Load.csv\n",
    "pl=pd.read_csv(r'C:\\Users\\Kritika\\OneDrive\\Desktop\\Great Lakes\\EDA\\EDA_WEEK 2\\EDA_MINI_PROJECT\\Pri-Load.csv')\n",
    "pd.set_option('display.max_columns', None)\n",
    "pl.head()"
   ]
  },
  {
   "cell_type": "code",
   "execution_count": 13,
   "metadata": {},
   "outputs": [
    {
     "data": {
      "text/plain": [
       "ListingCreationDate           object\n",
       "Term                           int64\n",
       "LoanStatus                    object\n",
       "ClosedDate                    object\n",
       "BorrowerAPR                  float64\n",
       "BorrowerRate                 float64\n",
       "LenderYield                  float64\n",
       "ProsperRating (Alpha)         object\n",
       "ProsperScore                 float64\n",
       "ListingCategory (numeric)      int64\n",
       "BorrowerState                 object\n",
       "Occupation                    object\n",
       "EmploymentStatus              object\n",
       "AmountDelinquent             float64\n",
       "StatedMonthlyIncome          float64\n",
       "LoanCurrentDaysDelinquent      int64\n",
       "LoanOriginalAmount             int64\n",
       "LoanOriginationDate           object\n",
       "LoanOriginationQuarter        object\n",
       "MonthlyLoanPayment           float64\n",
       "LP_InterestandFees           float64\n",
       "Investors                      int64\n",
       "dtype: object"
      ]
     },
     "execution_count": 13,
     "metadata": {},
     "output_type": "execute_result"
    }
   ],
   "source": [
    "#B. Check the data type and adjust datatype for all other categorical columns. \n",
    "pl.dtypes"
   ]
  },
  {
   "cell_type": "code",
   "execution_count": 14,
   "metadata": {},
   "outputs": [],
   "source": [
    "pl[['Term','LoanStatus','ProsperRating (Alpha)','ProsperScore', 'ListingCategory (numeric)','EmploymentStatus']]=pl[['Term','LoanStatus','ProsperRating (Alpha)','ProsperScore', 'ListingCategory (numeric)','EmploymentStatus']].astype('category')"
   ]
  },
  {
   "cell_type": "code",
   "execution_count": 15,
   "metadata": {},
   "outputs": [
    {
     "data": {
      "text/plain": [
       "ListingCreationDate            object\n",
       "Term                         category\n",
       "LoanStatus                   category\n",
       "ClosedDate                     object\n",
       "BorrowerAPR                   float64\n",
       "BorrowerRate                  float64\n",
       "LenderYield                   float64\n",
       "ProsperRating (Alpha)        category\n",
       "ProsperScore                 category\n",
       "ListingCategory (numeric)    category\n",
       "BorrowerState                  object\n",
       "Occupation                     object\n",
       "EmploymentStatus             category\n",
       "AmountDelinquent              float64\n",
       "StatedMonthlyIncome           float64\n",
       "LoanCurrentDaysDelinquent       int64\n",
       "LoanOriginalAmount              int64\n",
       "LoanOriginationDate            object\n",
       "LoanOriginationQuarter         object\n",
       "MonthlyLoanPayment            float64\n",
       "LP_InterestandFees            float64\n",
       "Investors                       int64\n",
       "dtype: object"
      ]
     },
     "execution_count": 15,
     "metadata": {},
     "output_type": "execute_result"
    }
   ],
   "source": [
    "pl.dtypes"
   ]
  },
  {
   "cell_type": "code",
   "execution_count": 16,
   "metadata": {},
   "outputs": [
    {
     "data": {
      "text/plain": [
       "252"
      ]
     },
     "execution_count": 16,
     "metadata": {},
     "output_type": "execute_result"
    }
   ],
   "source": [
    "#C. If you find any of the missing values in the ProsperRating column, then drop it.\n",
    "pl['ProsperRating (Alpha)'].isnull().sum()"
   ]
  },
  {
   "cell_type": "code",
   "execution_count": 17,
   "metadata": {},
   "outputs": [],
   "source": [
    "pl.dropna(inplace=True)"
   ]
  },
  {
   "cell_type": "code",
   "execution_count": 18,
   "metadata": {},
   "outputs": [
    {
     "data": {
      "text/plain": [
       "0"
      ]
     },
     "execution_count": 18,
     "metadata": {},
     "output_type": "execute_result"
    }
   ],
   "source": [
    "pl['ProsperRating (Alpha)'].isnull().sum()"
   ]
  },
  {
   "cell_type": "code",
   "execution_count": 19,
   "metadata": {},
   "outputs": [
    {
     "data": {
      "text/html": [
       "<div>\n",
       "<style scoped>\n",
       "    .dataframe tbody tr th:only-of-type {\n",
       "        vertical-align: middle;\n",
       "    }\n",
       "\n",
       "    .dataframe tbody tr th {\n",
       "        vertical-align: top;\n",
       "    }\n",
       "\n",
       "    .dataframe thead th {\n",
       "        text-align: right;\n",
       "    }\n",
       "</style>\n",
       "<table border=\"1\" class=\"dataframe\">\n",
       "  <thead>\n",
       "    <tr style=\"text-align: right;\">\n",
       "      <th></th>\n",
       "      <th>ListingCreationDate</th>\n",
       "      <th>Term</th>\n",
       "      <th>LoanStatus</th>\n",
       "      <th>ClosedDate</th>\n",
       "      <th>BorrowerAPR</th>\n",
       "      <th>BorrowerRate</th>\n",
       "      <th>LenderYield</th>\n",
       "      <th>ProsperRating (Alpha)</th>\n",
       "      <th>ProsperScore</th>\n",
       "      <th>ListingCategory (numeric)</th>\n",
       "      <th>BorrowerState</th>\n",
       "      <th>Occupation</th>\n",
       "      <th>EmploymentStatus</th>\n",
       "      <th>AmountDelinquent</th>\n",
       "      <th>StatedMonthlyIncome</th>\n",
       "      <th>LoanCurrentDaysDelinquent</th>\n",
       "      <th>LoanOriginalAmount</th>\n",
       "      <th>LoanOriginationDate</th>\n",
       "      <th>LoanOriginationQuarter</th>\n",
       "      <th>MonthlyLoanPayment</th>\n",
       "      <th>LP_InterestandFees</th>\n",
       "      <th>Investors</th>\n",
       "    </tr>\n",
       "  </thead>\n",
       "  <tbody>\n",
       "    <tr>\n",
       "      <th>15</th>\n",
       "      <td>2012-04-10 09:14:46.297000000</td>\n",
       "      <td>36</td>\n",
       "      <td>Defaulted</td>\n",
       "      <td>19-12-2012 0.00</td>\n",
       "      <td>0.35797</td>\n",
       "      <td>0.3177</td>\n",
       "      <td>0.3077</td>\n",
       "      <td>HR</td>\n",
       "      <td>5.0</td>\n",
       "      <td>13</td>\n",
       "      <td>FL</td>\n",
       "      <td>Other</td>\n",
       "      <td>Other</td>\n",
       "      <td>0.0</td>\n",
       "      <td>5500.000000</td>\n",
       "      <td>140</td>\n",
       "      <td>4000</td>\n",
       "      <td>19-04-2012 0.00</td>\n",
       "      <td>Q2 2012</td>\n",
       "      <td>173.71</td>\n",
       "      <td>311.38</td>\n",
       "      <td>10</td>\n",
       "    </tr>\n",
       "    <tr>\n",
       "      <th>23</th>\n",
       "      <td>2013-04-22 13:29:19.073000000</td>\n",
       "      <td>36</td>\n",
       "      <td>Defaulted</td>\n",
       "      <td>26-12-2013 0.00</td>\n",
       "      <td>0.28032</td>\n",
       "      <td>0.2419</td>\n",
       "      <td>0.2319</td>\n",
       "      <td>D</td>\n",
       "      <td>5.0</td>\n",
       "      <td>15</td>\n",
       "      <td>IL</td>\n",
       "      <td>Skilled Labor</td>\n",
       "      <td>Employed</td>\n",
       "      <td>0.0</td>\n",
       "      <td>2500.000000</td>\n",
       "      <td>193</td>\n",
       "      <td>2000</td>\n",
       "      <td>26-04-2013 0.00</td>\n",
       "      <td>Q2 2013</td>\n",
       "      <td>78.67</td>\n",
       "      <td>118.28</td>\n",
       "      <td>30</td>\n",
       "    </tr>\n",
       "    <tr>\n",
       "      <th>26</th>\n",
       "      <td>2013-02-12 18:07:31.690000000</td>\n",
       "      <td>60</td>\n",
       "      <td>Completed</td>\n",
       "      <td>22-10-2013 0.00</td>\n",
       "      <td>0.30748</td>\n",
       "      <td>0.2809</td>\n",
       "      <td>0.2709</td>\n",
       "      <td>E</td>\n",
       "      <td>3.0</td>\n",
       "      <td>1</td>\n",
       "      <td>NY</td>\n",
       "      <td>Sales - Commission</td>\n",
       "      <td>Employed</td>\n",
       "      <td>0.0</td>\n",
       "      <td>3885.916667</td>\n",
       "      <td>0</td>\n",
       "      <td>4000</td>\n",
       "      <td>21-02-2013 0.00</td>\n",
       "      <td>Q1 2013</td>\n",
       "      <td>124.76</td>\n",
       "      <td>725.35</td>\n",
       "      <td>37</td>\n",
       "    </tr>\n",
       "    <tr>\n",
       "      <th>27</th>\n",
       "      <td>2010-06-16 16:23:44.533000000</td>\n",
       "      <td>36</td>\n",
       "      <td>Completed</td>\n",
       "      <td>03-07-2013 0.00</td>\n",
       "      <td>0.11296</td>\n",
       "      <td>0.0920</td>\n",
       "      <td>0.0820</td>\n",
       "      <td>A</td>\n",
       "      <td>9.0</td>\n",
       "      <td>1</td>\n",
       "      <td>CO</td>\n",
       "      <td>Executive</td>\n",
       "      <td>Full-time</td>\n",
       "      <td>0.0</td>\n",
       "      <td>6666.666667</td>\n",
       "      <td>0</td>\n",
       "      <td>4000</td>\n",
       "      <td>24-06-2010 0.00</td>\n",
       "      <td>Q2 2010</td>\n",
       "      <td>0.00</td>\n",
       "      <td>594.48</td>\n",
       "      <td>121</td>\n",
       "    </tr>\n",
       "    <tr>\n",
       "      <th>30</th>\n",
       "      <td>2012-01-30 17:59:17.200000000</td>\n",
       "      <td>36</td>\n",
       "      <td>Completed</td>\n",
       "      <td>19-12-2012 0.00</td>\n",
       "      <td>0.12782</td>\n",
       "      <td>0.0999</td>\n",
       "      <td>0.0899</td>\n",
       "      <td>A</td>\n",
       "      <td>9.0</td>\n",
       "      <td>20</td>\n",
       "      <td>CA</td>\n",
       "      <td>Other</td>\n",
       "      <td>Employed</td>\n",
       "      <td>42488.0</td>\n",
       "      <td>3750.000000</td>\n",
       "      <td>0</td>\n",
       "      <td>10000</td>\n",
       "      <td>07-02-2012 0.00</td>\n",
       "      <td>Q1 2012</td>\n",
       "      <td>322.62</td>\n",
       "      <td>686.32</td>\n",
       "      <td>30</td>\n",
       "    </tr>\n",
       "    <tr>\n",
       "      <th>...</th>\n",
       "      <td>...</td>\n",
       "      <td>...</td>\n",
       "      <td>...</td>\n",
       "      <td>...</td>\n",
       "      <td>...</td>\n",
       "      <td>...</td>\n",
       "      <td>...</td>\n",
       "      <td>...</td>\n",
       "      <td>...</td>\n",
       "      <td>...</td>\n",
       "      <td>...</td>\n",
       "      <td>...</td>\n",
       "      <td>...</td>\n",
       "      <td>...</td>\n",
       "      <td>...</td>\n",
       "      <td>...</td>\n",
       "      <td>...</td>\n",
       "      <td>...</td>\n",
       "      <td>...</td>\n",
       "      <td>...</td>\n",
       "      <td>...</td>\n",
       "      <td>...</td>\n",
       "    </tr>\n",
       "    <tr>\n",
       "      <th>1018</th>\n",
       "      <td>2012-09-10 15:22:22.187000000</td>\n",
       "      <td>36</td>\n",
       "      <td>Completed</td>\n",
       "      <td>13-12-2013 0.00</td>\n",
       "      <td>0.28339</td>\n",
       "      <td>0.2449</td>\n",
       "      <td>0.2349</td>\n",
       "      <td>D</td>\n",
       "      <td>7.0</td>\n",
       "      <td>13</td>\n",
       "      <td>PA</td>\n",
       "      <td>Professional</td>\n",
       "      <td>Employed</td>\n",
       "      <td>3606.0</td>\n",
       "      <td>4166.666667</td>\n",
       "      <td>0</td>\n",
       "      <td>9000</td>\n",
       "      <td>13-09-2012 0.00</td>\n",
       "      <td>Q3 2012</td>\n",
       "      <td>355.42</td>\n",
       "      <td>2086.23</td>\n",
       "      <td>181</td>\n",
       "    </tr>\n",
       "    <tr>\n",
       "      <th>1022</th>\n",
       "      <td>2009-11-14 21:53:13.970000000</td>\n",
       "      <td>36</td>\n",
       "      <td>Completed</td>\n",
       "      <td>27-11-2012 0.00</td>\n",
       "      <td>0.12511</td>\n",
       "      <td>0.1040</td>\n",
       "      <td>0.0940</td>\n",
       "      <td>A</td>\n",
       "      <td>9.0</td>\n",
       "      <td>7</td>\n",
       "      <td>IL</td>\n",
       "      <td>Other</td>\n",
       "      <td>Full-time</td>\n",
       "      <td>0.0</td>\n",
       "      <td>3416.666667</td>\n",
       "      <td>0</td>\n",
       "      <td>5000</td>\n",
       "      <td>27-11-2009 0.00</td>\n",
       "      <td>Q4 2009</td>\n",
       "      <td>162.28</td>\n",
       "      <td>841.15</td>\n",
       "      <td>158</td>\n",
       "    </tr>\n",
       "    <tr>\n",
       "      <th>1024</th>\n",
       "      <td>2012-05-24 07:35:52.213000000</td>\n",
       "      <td>36</td>\n",
       "      <td>Chargedoff</td>\n",
       "      <td>25-08-2013 0.00</td>\n",
       "      <td>0.26681</td>\n",
       "      <td>0.2287</td>\n",
       "      <td>0.2187</td>\n",
       "      <td>D</td>\n",
       "      <td>3.0</td>\n",
       "      <td>13</td>\n",
       "      <td>NJ</td>\n",
       "      <td>Administrative Assistant</td>\n",
       "      <td>Full-time</td>\n",
       "      <td>0.0</td>\n",
       "      <td>2033.333333</td>\n",
       "      <td>319</td>\n",
       "      <td>2000</td>\n",
       "      <td>25-05-2012 0.00</td>\n",
       "      <td>Q2 2012</td>\n",
       "      <td>77.28</td>\n",
       "      <td>478.97</td>\n",
       "      <td>41</td>\n",
       "    </tr>\n",
       "    <tr>\n",
       "      <th>1025</th>\n",
       "      <td>2012-09-12 15:04:36.263000000</td>\n",
       "      <td>60</td>\n",
       "      <td>Chargedoff</td>\n",
       "      <td>28-01-2014 0.00</td>\n",
       "      <td>0.29464</td>\n",
       "      <td>0.2684</td>\n",
       "      <td>0.2584</td>\n",
       "      <td>D</td>\n",
       "      <td>6.0</td>\n",
       "      <td>1</td>\n",
       "      <td>NC</td>\n",
       "      <td>Professional</td>\n",
       "      <td>Employed</td>\n",
       "      <td>0.0</td>\n",
       "      <td>3583.333333</td>\n",
       "      <td>163</td>\n",
       "      <td>11500</td>\n",
       "      <td>28-09-2012 0.00</td>\n",
       "      <td>Q3 2012</td>\n",
       "      <td>350.06</td>\n",
       "      <td>2701.31</td>\n",
       "      <td>177</td>\n",
       "    </tr>\n",
       "    <tr>\n",
       "      <th>1028</th>\n",
       "      <td>2010-03-12 12:13:42.697000000</td>\n",
       "      <td>36</td>\n",
       "      <td>Completed</td>\n",
       "      <td>23-03-2013 0.00</td>\n",
       "      <td>0.26282</td>\n",
       "      <td>0.2399</td>\n",
       "      <td>0.2299</td>\n",
       "      <td>D</td>\n",
       "      <td>7.0</td>\n",
       "      <td>1</td>\n",
       "      <td>AL</td>\n",
       "      <td>Religious</td>\n",
       "      <td>Full-time</td>\n",
       "      <td>0.0</td>\n",
       "      <td>2840.083333</td>\n",
       "      <td>0</td>\n",
       "      <td>3500</td>\n",
       "      <td>23-03-2010 0.00</td>\n",
       "      <td>Q1 2010</td>\n",
       "      <td>131.50</td>\n",
       "      <td>1448.61</td>\n",
       "      <td>209</td>\n",
       "    </tr>\n",
       "  </tbody>\n",
       "</table>\n",
       "<p>227 rows × 22 columns</p>\n",
       "</div>"
      ],
      "text/plain": [
       "                ListingCreationDate Term  LoanStatus       ClosedDate  \\\n",
       "15    2012-04-10 09:14:46.297000000   36   Defaulted  19-12-2012 0.00   \n",
       "23    2013-04-22 13:29:19.073000000   36   Defaulted  26-12-2013 0.00   \n",
       "26    2013-02-12 18:07:31.690000000   60   Completed  22-10-2013 0.00   \n",
       "27    2010-06-16 16:23:44.533000000   36   Completed  03-07-2013 0.00   \n",
       "30    2012-01-30 17:59:17.200000000   36   Completed  19-12-2012 0.00   \n",
       "...                             ...  ...         ...              ...   \n",
       "1018  2012-09-10 15:22:22.187000000   36   Completed  13-12-2013 0.00   \n",
       "1022  2009-11-14 21:53:13.970000000   36   Completed  27-11-2012 0.00   \n",
       "1024  2012-05-24 07:35:52.213000000   36  Chargedoff  25-08-2013 0.00   \n",
       "1025  2012-09-12 15:04:36.263000000   60  Chargedoff  28-01-2014 0.00   \n",
       "1028  2010-03-12 12:13:42.697000000   36   Completed  23-03-2013 0.00   \n",
       "\n",
       "      BorrowerAPR  BorrowerRate  LenderYield ProsperRating (Alpha)  \\\n",
       "15        0.35797        0.3177       0.3077                    HR   \n",
       "23        0.28032        0.2419       0.2319                     D   \n",
       "26        0.30748        0.2809       0.2709                     E   \n",
       "27        0.11296        0.0920       0.0820                     A   \n",
       "30        0.12782        0.0999       0.0899                     A   \n",
       "...           ...           ...          ...                   ...   \n",
       "1018      0.28339        0.2449       0.2349                     D   \n",
       "1022      0.12511        0.1040       0.0940                     A   \n",
       "1024      0.26681        0.2287       0.2187                     D   \n",
       "1025      0.29464        0.2684       0.2584                     D   \n",
       "1028      0.26282        0.2399       0.2299                     D   \n",
       "\n",
       "     ProsperScore ListingCategory (numeric) BorrowerState  \\\n",
       "15            5.0                        13            FL   \n",
       "23            5.0                        15            IL   \n",
       "26            3.0                         1            NY   \n",
       "27            9.0                         1            CO   \n",
       "30            9.0                        20            CA   \n",
       "...           ...                       ...           ...   \n",
       "1018          7.0                        13            PA   \n",
       "1022          9.0                         7            IL   \n",
       "1024          3.0                        13            NJ   \n",
       "1025          6.0                         1            NC   \n",
       "1028          7.0                         1            AL   \n",
       "\n",
       "                    Occupation EmploymentStatus  AmountDelinquent  \\\n",
       "15                       Other            Other               0.0   \n",
       "23               Skilled Labor         Employed               0.0   \n",
       "26          Sales - Commission         Employed               0.0   \n",
       "27                   Executive        Full-time               0.0   \n",
       "30                       Other         Employed           42488.0   \n",
       "...                        ...              ...               ...   \n",
       "1018              Professional         Employed            3606.0   \n",
       "1022                     Other        Full-time               0.0   \n",
       "1024  Administrative Assistant        Full-time               0.0   \n",
       "1025              Professional         Employed               0.0   \n",
       "1028                 Religious        Full-time               0.0   \n",
       "\n",
       "      StatedMonthlyIncome  LoanCurrentDaysDelinquent  LoanOriginalAmount  \\\n",
       "15            5500.000000                        140                4000   \n",
       "23            2500.000000                        193                2000   \n",
       "26            3885.916667                          0                4000   \n",
       "27            6666.666667                          0                4000   \n",
       "30            3750.000000                          0               10000   \n",
       "...                   ...                        ...                 ...   \n",
       "1018          4166.666667                          0                9000   \n",
       "1022          3416.666667                          0                5000   \n",
       "1024          2033.333333                        319                2000   \n",
       "1025          3583.333333                        163               11500   \n",
       "1028          2840.083333                          0                3500   \n",
       "\n",
       "     LoanOriginationDate LoanOriginationQuarter  MonthlyLoanPayment  \\\n",
       "15       19-04-2012 0.00                Q2 2012              173.71   \n",
       "23       26-04-2013 0.00                Q2 2013               78.67   \n",
       "26       21-02-2013 0.00                Q1 2013              124.76   \n",
       "27       24-06-2010 0.00                Q2 2010                0.00   \n",
       "30       07-02-2012 0.00                Q1 2012              322.62   \n",
       "...                  ...                    ...                 ...   \n",
       "1018     13-09-2012 0.00                Q3 2012              355.42   \n",
       "1022     27-11-2009 0.00                Q4 2009              162.28   \n",
       "1024     25-05-2012 0.00                Q2 2012               77.28   \n",
       "1025     28-09-2012 0.00                Q3 2012              350.06   \n",
       "1028     23-03-2010 0.00                Q1 2010              131.50   \n",
       "\n",
       "      LP_InterestandFees  Investors  \n",
       "15                311.38         10  \n",
       "23                118.28         30  \n",
       "26                725.35         37  \n",
       "27                594.48        121  \n",
       "30                686.32         30  \n",
       "...                  ...        ...  \n",
       "1018             2086.23        181  \n",
       "1022              841.15        158  \n",
       "1024              478.97         41  \n",
       "1025             2701.31        177  \n",
       "1028             1448.61        209  \n",
       "\n",
       "[227 rows x 22 columns]"
      ]
     },
     "execution_count": 19,
     "metadata": {},
     "output_type": "execute_result"
    }
   ],
   "source": [
    "pl"
   ]
  },
  {
   "cell_type": "markdown",
   "metadata": {},
   "source": [
    "<h4 class=\"list-group-item list-group-item-action active\" >3. UNIVARIATE ANALYSIS</h4>\n",
    "\n",
    ">#### A. What are the main features of interest in your dataset?\n",
    "\n",
    "    Step1: Apply Univariate analysis using suitable charts for[ Loan status, Employment Status, Stated Monthly Income]\n",
    "\n",
    "    Step2: Check if any column distribution skew or not.\n",
    "\n",
    "    Step3: Write at least 2 observations for each visualization.\n",
    "\n",
    "\n"
   ]
  },
  {
   "cell_type": "code",
   "execution_count": 21,
   "metadata": {},
   "outputs": [
    {
     "data": {
      "text/plain": [
       "Completed                168\n",
       "Chargedoff                48\n",
       "Defaulted                 11\n",
       "Cancelled                  0\n",
       "Current                    0\n",
       "Past Due (1-15 days)       0\n",
       "Past Due (16-30 days)      0\n",
       "Past Due (31-60 days)      0\n",
       "Past Due (61-90 days)      0\n",
       "Name: LoanStatus, dtype: int64"
      ]
     },
     "execution_count": 21,
     "metadata": {},
     "output_type": "execute_result"
    }
   ],
   "source": [
    "#Step1 : Apply Univariate analysis using suitable charts for[ Loan status, Employment Status, Stated Monthly Income]\n",
    "pl['LoanStatus'].value_counts()"
   ]
  },
  {
   "cell_type": "code",
   "execution_count": 22,
   "metadata": {},
   "outputs": [
    {
     "data": {
      "image/png": "[encoded data removed]",
      "text/plain": [
       "<Figure size 432x288 with 1 Axes>"
      ]
     },
     "metadata": {
      "needs_background": "light"
     },
     "output_type": "display_data"
    }
   ],
   "source": [
    "pl['LoanStatus'].value_counts().plot(kind='bar');"
   ]
  },
  {
   "cell_type": "raw",
   "metadata": {},
   "source": [
    "1.Loan status\n",
    "- Highest number of the loans have completed status (168)\n",
    "- Only completed,charged off and defaulted status have observations least being defaulted"
   ]
  },
  {
   "cell_type": "code",
   "execution_count": 23,
   "metadata": {},
   "outputs": [
    {
     "data": {
      "text/plain": [
       "Employed         139\n",
       "Full-time         56\n",
       "Self-employed     15\n",
       "Not employed       7\n",
       "Other              5\n",
       "Part-time          3\n",
       "Retired            2\n",
       "Not available      0\n",
       "Name: EmploymentStatus, dtype: int64"
      ]
     },
     "execution_count": 23,
     "metadata": {},
     "output_type": "execute_result"
    }
   ],
   "source": [
    "pl['EmploymentStatus'].value_counts()"
   ]
  },
  {
   "cell_type": "code",
   "execution_count": 24,
   "metadata": {},
   "outputs": [
    {
     "data": {
      "image/png": "[encoded data removed]",
      "text/plain": [
       "<Figure size 432x288 with 1 Axes>"
      ]
     },
     "metadata": {
      "needs_background": "light"
     },
     "output_type": "display_data"
    }
   ],
   "source": [
    "pl['EmploymentStatus'].value_counts().plot(kind='bar');"
   ]
  },
  {
   "cell_type": "raw",
   "metadata": {},
   "source": [
    "2.Employment Status\n",
    "- Largest proportion of borrowers (139 people) are employed\n",
    "- Only 2 retired people are borrowers"
   ]
  },
  {
   "cell_type": "code",
   "execution_count": 31,
   "metadata": {},
   "outputs": [
    {
     "name": "stderr",
     "output_type": "stream",
     "text": [
      "C:\\Users\\Kritika\\AppData\\Roaming\\Python\\Python37\\site-packages\\seaborn\\distributions.py:2551: FutureWarning: `distplot` is a deprecated function and will be removed in a future version. Please adapt your code to use either `displot` (a figure-level function with similar flexibility) or `histplot` (an axes-level function for histograms).\n",
      "  warnings.warn(msg, FutureWarning)\n"
     ]
    },
    {
     "data": {
      "image/png": "[encoded data removed]",
      "text/plain": [
       "<Figure size 432x288 with 1 Axes>"
      ]
     },
     "metadata": {
      "needs_background": "light"
     },
     "output_type": "display_data"
    }
   ],
   "source": [
    "sns.distplot(pl['StatedMonthlyIncome']);"
   ]
  },
  {
   "cell_type": "raw",
   "metadata": {},
   "source": [
    "3.Stated Monthly Income\n",
    "- Data is rightly skewed\n",
    "- Stated Monthly Income is concentrated between 0 and 15000"
   ]
  },
  {
   "cell_type": "code",
   "execution_count": 30,
   "metadata": {},
   "outputs": [
    {
     "data": {
      "image/png": "[encoded data removed]",
      "text/plain": [
       "<Figure size 1080x576 with 12 Axes>"
      ]
     },
     "metadata": {
      "needs_background": "light"
     },
     "output_type": "display_data"
    }
   ],
   "source": [
    "#Step2: Check if any column distribution skew or not.\n",
    "pl.hist(figsize=[15,8])\n",
    "plt.tight_layout()"
   ]
  },
  {
   "cell_type": "code",
   "execution_count": 27,
   "metadata": {},
   "outputs": [
    {
     "data": {
      "text/plain": [
       "BorrowerAPR                 -0.501101\n",
       "BorrowerRate                -0.403194\n",
       "LenderYield                 -0.403194\n",
       "AmountDelinquent             7.025083\n",
       "StatedMonthlyIncome          1.685052\n",
       "LoanCurrentDaysDelinquent    2.479764\n",
       "LoanOriginalAmount           1.610349\n",
       "MonthlyLoanPayment           1.436385\n",
       "LP_InterestandFees           2.087196\n",
       "Investors                    2.860321\n",
       "dtype: float64"
      ]
     },
     "execution_count": 27,
     "metadata": {},
     "output_type": "execute_result"
    }
   ],
   "source": [
    "pl.skew()\n",
    "#As can be seen from the calculation and also from the graph above, the AmountDelinquent data is rightly skewed followed \n",
    "#by Investors and LoanCurrentDaysDelinquent ."
   ]
  },
  {
   "cell_type": "markdown",
   "metadata": {},
   "source": [
    "<h4 class=\"list-group-item list-group-item-action active\" >4. BIVARIATE ANALYSIS</h4>\n",
    "\n",
    ">#### A. Check the correlation matrix for all numeric variables. Maintain the Strong positive and Negative correlations columns.\n",
    ">#### B. Check the relation between `LoanOriginalAmount` and `BorrowerAPR` columns. \n",
    "\n",
    "    Step1: Use subplots. \n",
    "    \n",
    "        Plot1: Scatter Plot of LoanOriginalAmount and BorrowerAPR columns    \n",
    "\n",
    "        Plot2: HeatMap of LoanOriginalAmount and BorrowerAPR\n",
    "        \n",
    "    Step2: Write your observations.         \n",
    "        \n",
    ">#### C.Display the seperate box plot for `y = BorrowerAPR`  with x1 = `LoanStatus`, x2 = `EmploymentStatus` columns.Write your observations. \n"
   ]
  },
  {
   "cell_type": "code",
   "execution_count": 38,
   "metadata": {},
   "outputs": [
    {
     "data": {
      "text/html": [
       "<div>\n",
       "<style scoped>\n",
       "    .dataframe tbody tr th:only-of-type {\n",
       "        vertical-align: middle;\n",
       "    }\n",
       "\n",
       "    .dataframe tbody tr th {\n",
       "        vertical-align: top;\n",
       "    }\n",
       "\n",
       "    .dataframe thead th {\n",
       "        text-align: right;\n",
       "    }\n",
       "</style>\n",
       "<table border=\"1\" class=\"dataframe\">\n",
       "  <thead>\n",
       "    <tr style=\"text-align: right;\">\n",
       "      <th></th>\n",
       "      <th>BorrowerAPR</th>\n",
       "      <th>BorrowerRate</th>\n",
       "      <th>LenderYield</th>\n",
       "      <th>AmountDelinquent</th>\n",
       "      <th>StatedMonthlyIncome</th>\n",
       "      <th>LoanCurrentDaysDelinquent</th>\n",
       "      <th>LoanOriginalAmount</th>\n",
       "      <th>MonthlyLoanPayment</th>\n",
       "      <th>LP_InterestandFees</th>\n",
       "      <th>Investors</th>\n",
       "    </tr>\n",
       "  </thead>\n",
       "  <tbody>\n",
       "    <tr>\n",
       "      <th>BorrowerAPR</th>\n",
       "      <td>1.000000</td>\n",
       "      <td>0.988514</td>\n",
       "      <td>0.988514</td>\n",
       "      <td>-0.073179</td>\n",
       "      <td>-0.278971</td>\n",
       "      <td>0.235366</td>\n",
       "      <td>-0.316723</td>\n",
       "      <td>-0.189521</td>\n",
       "      <td>0.078575</td>\n",
       "      <td>-0.363745</td>\n",
       "    </tr>\n",
       "    <tr>\n",
       "      <th>BorrowerRate</th>\n",
       "      <td>0.988514</td>\n",
       "      <td>1.000000</td>\n",
       "      <td>1.000000</td>\n",
       "      <td>-0.095459</td>\n",
       "      <td>-0.283255</td>\n",
       "      <td>0.251898</td>\n",
       "      <td>-0.293439</td>\n",
       "      <td>-0.204254</td>\n",
       "      <td>0.116014</td>\n",
       "      <td>-0.332722</td>\n",
       "    </tr>\n",
       "    <tr>\n",
       "      <th>LenderYield</th>\n",
       "      <td>0.988514</td>\n",
       "      <td>1.000000</td>\n",
       "      <td>1.000000</td>\n",
       "      <td>-0.095459</td>\n",
       "      <td>-0.283255</td>\n",
       "      <td>0.251898</td>\n",
       "      <td>-0.293439</td>\n",
       "      <td>-0.204254</td>\n",
       "      <td>0.116014</td>\n",
       "      <td>-0.332722</td>\n",
       "    </tr>\n",
       "    <tr>\n",
       "      <th>AmountDelinquent</th>\n",
       "      <td>-0.073179</td>\n",
       "      <td>-0.095459</td>\n",
       "      <td>-0.095459</td>\n",
       "      <td>1.000000</td>\n",
       "      <td>-0.101303</td>\n",
       "      <td>0.001038</td>\n",
       "      <td>-0.051924</td>\n",
       "      <td>-0.059704</td>\n",
       "      <td>-0.110945</td>\n",
       "      <td>-0.087039</td>\n",
       "    </tr>\n",
       "    <tr>\n",
       "      <th>StatedMonthlyIncome</th>\n",
       "      <td>-0.278971</td>\n",
       "      <td>-0.283255</td>\n",
       "      <td>-0.283255</td>\n",
       "      <td>-0.101303</td>\n",
       "      <td>1.000000</td>\n",
       "      <td>-0.161890</td>\n",
       "      <td>0.311711</td>\n",
       "      <td>0.283739</td>\n",
       "      <td>0.171257</td>\n",
       "      <td>0.201545</td>\n",
       "    </tr>\n",
       "    <tr>\n",
       "      <th>LoanCurrentDaysDelinquent</th>\n",
       "      <td>0.235366</td>\n",
       "      <td>0.251898</td>\n",
       "      <td>0.251898</td>\n",
       "      <td>0.001038</td>\n",
       "      <td>-0.161890</td>\n",
       "      <td>1.000000</td>\n",
       "      <td>-0.095557</td>\n",
       "      <td>-0.068151</td>\n",
       "      <td>-0.122264</td>\n",
       "      <td>-0.070327</td>\n",
       "    </tr>\n",
       "    <tr>\n",
       "      <th>LoanOriginalAmount</th>\n",
       "      <td>-0.316723</td>\n",
       "      <td>-0.293439</td>\n",
       "      <td>-0.293439</td>\n",
       "      <td>-0.051924</td>\n",
       "      <td>0.311711</td>\n",
       "      <td>-0.095557</td>\n",
       "      <td>1.000000</td>\n",
       "      <td>0.873297</td>\n",
       "      <td>0.604356</td>\n",
       "      <td>0.591721</td>\n",
       "    </tr>\n",
       "    <tr>\n",
       "      <th>MonthlyLoanPayment</th>\n",
       "      <td>-0.189521</td>\n",
       "      <td>-0.204254</td>\n",
       "      <td>-0.204254</td>\n",
       "      <td>-0.059704</td>\n",
       "      <td>0.283739</td>\n",
       "      <td>-0.068151</td>\n",
       "      <td>0.873297</td>\n",
       "      <td>1.000000</td>\n",
       "      <td>0.548789</td>\n",
       "      <td>0.518983</td>\n",
       "    </tr>\n",
       "    <tr>\n",
       "      <th>LP_InterestandFees</th>\n",
       "      <td>0.078575</td>\n",
       "      <td>0.116014</td>\n",
       "      <td>0.116014</td>\n",
       "      <td>-0.110945</td>\n",
       "      <td>0.171257</td>\n",
       "      <td>-0.122264</td>\n",
       "      <td>0.604356</td>\n",
       "      <td>0.548789</td>\n",
       "      <td>1.000000</td>\n",
       "      <td>0.528392</td>\n",
       "    </tr>\n",
       "    <tr>\n",
       "      <th>Investors</th>\n",
       "      <td>-0.363745</td>\n",
       "      <td>-0.332722</td>\n",
       "      <td>-0.332722</td>\n",
       "      <td>-0.087039</td>\n",
       "      <td>0.201545</td>\n",
       "      <td>-0.070327</td>\n",
       "      <td>0.591721</td>\n",
       "      <td>0.518983</td>\n",
       "      <td>0.528392</td>\n",
       "      <td>1.000000</td>\n",
       "    </tr>\n",
       "  </tbody>\n",
       "</table>\n",
       "</div>"
      ],
      "text/plain": [
       "                           BorrowerAPR  BorrowerRate  LenderYield  \\\n",
       "BorrowerAPR                   1.000000      0.988514     0.988514   \n",
       "BorrowerRate                  0.988514      1.000000     1.000000   \n",
       "LenderYield                   0.988514      1.000000     1.000000   \n",
       "AmountDelinquent             -0.073179     -0.095459    -0.095459   \n",
       "StatedMonthlyIncome          -0.278971     -0.283255    -0.283255   \n",
       "LoanCurrentDaysDelinquent     0.235366      0.251898     0.251898   \n",
       "LoanOriginalAmount           -0.316723     -0.293439    -0.293439   \n",
       "MonthlyLoanPayment           -0.189521     -0.204254    -0.204254   \n",
       "LP_InterestandFees            0.078575      0.116014     0.116014   \n",
       "Investors                    -0.363745     -0.332722    -0.332722   \n",
       "\n",
       "                           AmountDelinquent  StatedMonthlyIncome  \\\n",
       "BorrowerAPR                       -0.073179            -0.278971   \n",
       "BorrowerRate                      -0.095459            -0.283255   \n",
       "LenderYield                       -0.095459            -0.283255   \n",
       "AmountDelinquent                   1.000000            -0.101303   \n",
       "StatedMonthlyIncome               -0.101303             1.000000   \n",
       "LoanCurrentDaysDelinquent          0.001038            -0.161890   \n",
       "LoanOriginalAmount                -0.051924             0.311711   \n",
       "MonthlyLoanPayment                -0.059704             0.283739   \n",
       "LP_InterestandFees                -0.110945             0.171257   \n",
       "Investors                         -0.087039             0.201545   \n",
       "\n",
       "                           LoanCurrentDaysDelinquent  LoanOriginalAmount  \\\n",
       "BorrowerAPR                                 0.235366           -0.316723   \n",
       "BorrowerRate                                0.251898           -0.293439   \n",
       "LenderYield                                 0.251898           -0.293439   \n",
       "AmountDelinquent                            0.001038           -0.051924   \n",
       "StatedMonthlyIncome                        -0.161890            0.311711   \n",
       "LoanCurrentDaysDelinquent                   1.000000           -0.095557   \n",
       "LoanOriginalAmount                         -0.095557            1.000000   \n",
       "MonthlyLoanPayment                         -0.068151            0.873297   \n",
       "LP_InterestandFees                         -0.122264            0.604356   \n",
       "Investors                                  -0.070327            0.591721   \n",
       "\n",
       "                           MonthlyLoanPayment  LP_InterestandFees  Investors  \n",
       "BorrowerAPR                         -0.189521            0.078575  -0.363745  \n",
       "BorrowerRate                        -0.204254            0.116014  -0.332722  \n",
       "LenderYield                         -0.204254            0.116014  -0.332722  \n",
       "AmountDelinquent                    -0.059704           -0.110945  -0.087039  \n",
       "StatedMonthlyIncome                  0.283739            0.171257   0.201545  \n",
       "LoanCurrentDaysDelinquent           -0.068151           -0.122264  -0.070327  \n",
       "LoanOriginalAmount                   0.873297            0.604356   0.591721  \n",
       "MonthlyLoanPayment                   1.000000            0.548789   0.518983  \n",
       "LP_InterestandFees                   0.548789            1.000000   0.528392  \n",
       "Investors                            0.518983            0.528392   1.000000  "
      ]
     },
     "execution_count": 38,
     "metadata": {},
     "output_type": "execute_result"
    }
   ],
   "source": [
    "#A. Check the correlation matrix for all numeric variables. Maintain the Strong positive and Negative correlations columns.\n",
    "pl.corr()"
   ]
  },
  {
   "cell_type": "code",
   "execution_count": 42,
   "metadata": {},
   "outputs": [
    {
     "data": {
      "text/html": [
       "<div>\n",
       "<style scoped>\n",
       "    .dataframe tbody tr th:only-of-type {\n",
       "        vertical-align: middle;\n",
       "    }\n",
       "\n",
       "    .dataframe tbody tr th {\n",
       "        vertical-align: top;\n",
       "    }\n",
       "\n",
       "    .dataframe thead th {\n",
       "        text-align: right;\n",
       "    }\n",
       "</style>\n",
       "<table border=\"1\" class=\"dataframe\">\n",
       "  <thead>\n",
       "    <tr style=\"text-align: right;\">\n",
       "      <th></th>\n",
       "      <th>BorrowerAPR</th>\n",
       "      <th>BorrowerRate</th>\n",
       "      <th>LenderYield</th>\n",
       "      <th>LoanOriginalAmount</th>\n",
       "      <th>MonthlyLoanPayment</th>\n",
       "    </tr>\n",
       "  </thead>\n",
       "  <tbody>\n",
       "    <tr>\n",
       "      <th>BorrowerAPR</th>\n",
       "      <td>1.000000</td>\n",
       "      <td>0.988514</td>\n",
       "      <td>0.988514</td>\n",
       "      <td>NaN</td>\n",
       "      <td>NaN</td>\n",
       "    </tr>\n",
       "    <tr>\n",
       "      <th>BorrowerRate</th>\n",
       "      <td>0.988514</td>\n",
       "      <td>1.000000</td>\n",
       "      <td>1.000000</td>\n",
       "      <td>NaN</td>\n",
       "      <td>NaN</td>\n",
       "    </tr>\n",
       "    <tr>\n",
       "      <th>LenderYield</th>\n",
       "      <td>0.988514</td>\n",
       "      <td>1.000000</td>\n",
       "      <td>1.000000</td>\n",
       "      <td>NaN</td>\n",
       "      <td>NaN</td>\n",
       "    </tr>\n",
       "    <tr>\n",
       "      <th>LoanOriginalAmount</th>\n",
       "      <td>NaN</td>\n",
       "      <td>NaN</td>\n",
       "      <td>NaN</td>\n",
       "      <td>1.000000</td>\n",
       "      <td>0.873297</td>\n",
       "    </tr>\n",
       "    <tr>\n",
       "      <th>MonthlyLoanPayment</th>\n",
       "      <td>NaN</td>\n",
       "      <td>NaN</td>\n",
       "      <td>NaN</td>\n",
       "      <td>0.873297</td>\n",
       "      <td>1.000000</td>\n",
       "    </tr>\n",
       "  </tbody>\n",
       "</table>\n",
       "</div>"
      ],
      "text/plain": [
       "                    BorrowerAPR  BorrowerRate  LenderYield  \\\n",
       "BorrowerAPR            1.000000      0.988514     0.988514   \n",
       "BorrowerRate           0.988514      1.000000     1.000000   \n",
       "LenderYield            0.988514      1.000000     1.000000   \n",
       "LoanOriginalAmount          NaN           NaN          NaN   \n",
       "MonthlyLoanPayment          NaN           NaN          NaN   \n",
       "\n",
       "                    LoanOriginalAmount  MonthlyLoanPayment  \n",
       "BorrowerAPR                        NaN                 NaN  \n",
       "BorrowerRate                       NaN                 NaN  \n",
       "LenderYield                        NaN                 NaN  \n",
       "LoanOriginalAmount            1.000000            0.873297  \n",
       "MonthlyLoanPayment            0.873297            1.000000  "
      ]
     },
     "execution_count": 42,
     "metadata": {},
     "output_type": "execute_result"
    }
   ],
   "source": [
    "pl_strong_corr=pl.corr()[abs(pl.corr())>0.7]\n",
    "pl_strong_corr.dropna(thresh=2,axis=1).dropna(how='all')"
   ]
  },
  {
   "cell_type": "code",
   "execution_count": 43,
   "metadata": {},
   "outputs": [
    {
     "data": {
      "image/png": "[encoded data removed]",
      "text/plain": [
       "<Figure size 1080x360 with 3 Axes>"
      ]
     },
     "metadata": {
      "needs_background": "light"
     },
     "output_type": "display_data"
    }
   ],
   "source": [
    "#B.Check the relation between LoanOriginalAmount and BorrowerAPR columns\n",
    "\n",
    "#Step1: Use subplots. \n",
    "\n",
    "#Plot1: Scatter Plot of LoanOriginalAmount and BorrowerAPR columns   \n",
    "plt.figure(figsize=(15,5))\n",
    "plt.subplot(1,2,1)\n",
    "plt.title('Scatterplot')\n",
    "sns.scatterplot(x='LoanOriginalAmount',y='BorrowerAPR',data=pl)\n",
    "\n",
    "#Plot2: HeatMap of LoanOriginalAmount and BorrowerAPR\n",
    "plt.subplot(1,2,2)\n",
    "plt.title('HeatMap')\n",
    "sns.heatmap(pl[['LoanOriginalAmount','BorrowerAPR']].corr(),annot=True)\n",
    "\n",
    "plt.suptitle('LoanOriginalAmount and BorrowerAPR')\n",
    "plt.show()"
   ]
  },
  {
   "cell_type": "raw",
   "metadata": {},
   "source": [
    "#Step2: Write your observations.\n",
    "\n",
    "-As you can see from above scatter and heatmap plot between 'LoanOriginalAmount' and 'BorrowerAPR',there is a weak coorelation between them.\n",
    "- Heatmap tells us that LoanOriginalAmount and BorrowerAPR are negatively correlated "
   ]
  },
  {
   "cell_type": "code",
   "execution_count": 44,
   "metadata": {},
   "outputs": [
    {
     "data": {
      "image/png": "[encoded data removed]",
      "text/plain": [
       "<Figure size 936x360 with 2 Axes>"
      ]
     },
     "metadata": {
      "needs_background": "light"
     },
     "output_type": "display_data"
    }
   ],
   "source": [
    "#C.Display the seperate box plot for y = BorrowerAPR with x1 = LoanStatus, x2 = EmploymentStatus columns.\n",
    "\n",
    "fig, axes = plt.subplots(1, 2,figsize=(13,5),sharey=True)\n",
    "\n",
    "sns.boxplot(x='LoanStatus',y='BorrowerAPR',data=pl,ax=axes[0])\n",
    "axes[0].tick_params(axis='x',rotation=90)\n",
    "\n",
    "sns.boxplot(x='EmploymentStatus',y='BorrowerAPR',data=pl,ax=axes[1])\n",
    "axes[1].tick_params(axis='x',rotation=90)\n",
    "\n",
    "axes[1].set_ylabel('')\n",
    "\n",
    "plt.tight_layout()\n",
    "\n",
    "plt.show()"
   ]
  },
  {
   "cell_type": "raw",
   "metadata": {},
   "source": [
    "#Write your observations\n",
    "\n",
    "-In case of Loan Status, Chargedoff has two outlier \n",
    "-In case of Employment Status, Other has  one outlier"
   ]
  },
  {
   "cell_type": "markdown",
   "metadata": {},
   "source": [
    "<h4 class=\"list-group-item list-group-item-action active\" >5.  MULTI VARIATE ANALYSIS, FEATURE ENGINEERING</h4>\n",
    "\n",
    ">#### A. Write a program\n",
    "\n",
    "    Step 1: Create a  condition = 'LoanStatus'== 'Completed'| 'LoanStatus' == 'Defaulted' |\\'LoanStatus' == 'Chargedoff'\n",
    "\n",
    "    Step2: Create a user define function  using condition and `LoanStatus` column.\n",
    "\n",
    "    Hint: df['LoanStatus'] = df.apply(user define function , axis=1)\n",
    "    \n",
    "        Sample output : \n",
    "        \n",
    "        \n",
    "        Completed    168\n",
    "        \n",
    "        Defaulted     59\n",
    "\n",
    "\n",
    ">#### B. Write a program\n",
    "\n",
    "    Step 1: Create a  dictionary called categories = 1: 'Debt Consolidation', 2: 'Home Improvement', 3: 'Business', 6: 'Auto', 7: 'Other'\n",
    "\n",
    "    Step2: Create a user define function  using categories and `ListingCategory (numeric)` column.\n",
    "\n",
    "    Hint: df['ListingCategory (numeric)'] = df.apply(user define function , axis=1)\n",
    "    \n",
    "        Sample output : \n",
    "        \n",
    "        \n",
    "        Debt Consolidation    106\n",
    "\n",
    "        Other                  65\n",
    "\n",
    "        Business               25\n",
    "\n",
    "        Home Improvement       22\n",
    "\n",
    "        Auto                    9\n",
    "\n",
    ">#### C. Display the box plot for `ProsperRating (Alpha)` vs `LoanOriginalAmount` and hue = `Loan Status`[Completed,Defaulted]. Write your observations.\n",
    "\n",
    ">#### D. Display the catplot for `ProsperRating (Alpha)` vs `ListingCategory (numeric)`[Debt Consolidation,Other,Business,Home Improvement,Auto] and hue = `Loan Status`[Completed,Defaulted]. Write your observations."
   ]
  },
  {
   "cell_type": "code",
   "execution_count": 1041,
   "metadata": {},
   "outputs": [
    {
     "data": {
      "text/plain": [
       "Completed                168\n",
       "Chargedoff                48\n",
       "Defaulted                 11\n",
       "Cancelled                  0\n",
       "Current                    0\n",
       "Past Due (1-15 days)       0\n",
       "Past Due (16-30 days)      0\n",
       "Past Due (31-60 days)      0\n",
       "Past Due (61-90 days)      0\n",
       "Name: LoanStatus, dtype: int64"
      ]
     },
     "execution_count": 1041,
     "metadata": {},
     "output_type": "execute_result"
    }
   ],
   "source": [
    "#A.Write a program\n",
    "#Step 1: Create a  condition = 'LoanStatus'== 'Completed'| 'LoanStatus' == 'Defaulted' |'LoanStatus' == 'Chargedoff' --??\n",
    "pl['LoanStatus'].value_counts()"
   ]
  },
  {
   "cell_type": "code",
   "execution_count": 1042,
   "metadata": {},
   "outputs": [],
   "source": [
    "def LS_Label(LoanStatus):\n",
    "    if (LoanStatus == 'Completed'):\n",
    "        return 'Completed'\n",
    "    if (LoanStatus == 'Chargedoff')|(LoanStatus == 'Defaulted'):\n",
    "        return  'Defaulted'"
   ]
  },
  {
   "cell_type": "code",
   "execution_count": 1043,
   "metadata": {},
   "outputs": [],
   "source": [
    "#Step2: Create a user define function  using condition and `LoanStatus` column.\n",
    "pl['LoanStatus'] = pl['LoanStatus'].apply(LS_Label)\n",
    "#pl.head()"
   ]
  },
  {
   "cell_type": "code",
   "execution_count": 1044,
   "metadata": {},
   "outputs": [
    {
     "data": {
      "text/plain": [
       "Completed    168\n",
       "Defaulted     59\n",
       "Name: LoanStatus, dtype: int64"
      ]
     },
     "execution_count": 1044,
     "metadata": {},
     "output_type": "execute_result"
    }
   ],
   "source": [
    "pl['LoanStatus'].value_counts()"
   ]
  },
  {
   "cell_type": "code",
   "execution_count": 1045,
   "metadata": {},
   "outputs": [
    {
     "data": {
      "text/plain": [
       "{1: 'Debt Consolidation',\n",
       " 2: 'Home Improvement',\n",
       " 3: 'Business',\n",
       " 6: 'Auto',\n",
       " 7: 'Other'}"
      ]
     },
     "execution_count": 1045,
     "metadata": {},
     "output_type": "execute_result"
    }
   ],
   "source": [
    "#B.Write a program\n",
    "#Step 1: Create a  dictionary called categories = 1: 'Debt Consolidation', 2: 'Home Improvement', 3: 'Business', 6: 'Auto', 7: 'Other'\n",
    "categories={1: 'Debt Consolidation', 2: 'Home Improvement', 3: 'Business', 6: 'Auto', 7: 'Other'}\n",
    "categories"
   ]
  },
  {
   "cell_type": "code",
   "execution_count": 1046,
   "metadata": {},
   "outputs": [],
   "source": [
    "#Step2: Create a user define function  using categories and `ListingCategory (numeric)` column.\n",
    "pl['ListingCategory (numeric)']=pl['ListingCategory (numeric)'].map(categories)\n",
    "#pl.head()"
   ]
  },
  {
   "cell_type": "code",
   "execution_count": 1047,
   "metadata": {},
   "outputs": [
    {
     "data": {
      "text/plain": [
       "Debt Consolidation    106\n",
       "Other                  37\n",
       "Business               25\n",
       "Home Improvement       22\n",
       "Auto                    9\n",
       "Name: ListingCategory (numeric), dtype: int64"
      ]
     },
     "execution_count": 1047,
     "metadata": {},
     "output_type": "execute_result"
    }
   ],
   "source": [
    "pl['ListingCategory (numeric)'].value_counts()"
   ]
  },
  {
   "cell_type": "code",
   "execution_count": 1048,
   "metadata": {},
   "outputs": [
    {
     "data": {
      "image/png": "[encoded data removed]",
      "text/plain": [
       "<Figure size 432x288 with 1 Axes>"
      ]
     },
     "metadata": {
      "needs_background": "light"
     },
     "output_type": "display_data"
    }
   ],
   "source": [
    "#C. Display the box plot for ProsperRating (Alpha) vs LoanOriginalAmount and hue = Loan Status[Completed,Defaulted].\n",
    "sns.boxplot(x='ProsperRating (Alpha)',y='LoanOriginalAmount',hue='LoanStatus',data=pl);"
   ]
  },
  {
   "cell_type": "raw",
   "metadata": {},
   "source": [
    "Write your observations\n",
    "\n",
    "- As you can see from above boxplot , the spread of 'LoanOriginalAmount' for 'Completed' data is greater or equal to 'Defaulted' for all Prosper Rating categories.\n",
    "-There is a single datapoint of 'LoanOriginalAmount' present for 'ProsperRating' of 'A' and 'B'.\n",
    "- Outliers present in 'ProsperRating' A (Completed), C (both) and HR (Defaulted)"
   ]
  },
  {
   "cell_type": "code",
   "execution_count": 1063,
   "metadata": {},
   "outputs": [
    {
     "data": {
      "text/plain": [
       "<Figure size 1080x360 with 0 Axes>"
      ]
     },
     "metadata": {},
     "output_type": "display_data"
    },
    {
     "data": {
      "image/png": "[encoded data removed]",
      "text/plain": [
       "<Figure size 1170.12x720 with 1 Axes>"
      ]
     },
     "metadata": {
      "needs_background": "light"
     },
     "output_type": "display_data"
    }
   ],
   "source": [
    "#D. Display the catplot for ProsperRating (Alpha) vs ListingCategory (numeric) \n",
    "#[Debt Consolidation,Other,Business,Home Improvement,Auto] and hue = Loan Status[Completed,Defaulted]. \n",
    "\n",
    "plt.figure(figsize=[15,5])\n",
    "sns.catplot(x='ListingCategory (numeric)',y='ProsperRating (Alpha)',hue='LoanStatus',data=pl,height=10, aspect=1.5,kind='swarm')\n",
    "plt.xticks(rotation=90)\n",
    "plt.show()"
   ]
  },
  {
   "cell_type": "raw",
   "metadata": {},
   "source": [
    "Write your observations\n",
    "\n",
    "- As you can see from above swarmplot, more number of data points are present for 'Debt Consolidation' Listing Cattegory.\n",
    "- Across prosper ratings, as 'Defaulted' loan status data points increases , prosper rating decreases(i.e prosper rating of 'B' has more 'defaulted' data points compared to 'A', and 'C' will have more than 'B' and so on ) for all 'Listing Categories'"
   ]
  },
  {
   "cell_type": "code",
   "execution_count": null,
   "metadata": {},
   "outputs": [],
   "source": []
  }
 ],
 "metadata": {
  "kernelspec": {
   "display_name": "Python 3",
   "language": "python",
   "name": "python3"
  },
  "language_info": {
   "codemirror_mode": {
    "name": "ipython",
    "version": 3
   },
   "file_extension": ".py",
   "mimetype": "text/x-python",
   "name": "python",
   "nbconvert_exporter": "python",
   "pygments_lexer": "ipython3",
   "version": "3.7.1"
  }
 },
 "nbformat": 4,
 "nbformat_minor": 4
}
