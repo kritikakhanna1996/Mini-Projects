{
 "cells": [
  {
   "cell_type": "markdown",
   "metadata": {},
   "source": [
    "# Courier Management System"
   ]
  },
  {
   "cell_type": "code",
   "execution_count": 40,
   "metadata": {},
   "outputs": [],
   "source": [
    "from datetime import date"
   ]
  },
  {
   "cell_type": "code",
   "execution_count": 41,
   "metadata": {},
   "outputs": [
    {
     "data": {
      "text/plain": [
       "{101: [1,\n",
       "  3,\n",
       "  datetime.date(2020, 3, 14),\n",
       "  datetime.date(2020, 3, 25),\n",
       "  'Area1',\n",
       "  'Area6',\n",
       "  'Delivered',\n",
       "  198],\n",
       " 102: [4,\n",
       "  1,\n",
       "  datetime.date(2020, 6, 18),\n",
       "  datetime.date(2020, 7, 9),\n",
       "  'Area2',\n",
       "  'Area4',\n",
       "  'Delivered',\n",
       "  275],\n",
       " 103: [2,\n",
       "  3,\n",
       "  datetime.date(2020, 12, 1),\n",
       "  None,\n",
       "  'Area5',\n",
       "  'Area1',\n",
       "  'In-Transit',\n",
       "  200],\n",
       " 104: [1,\n",
       "  5,\n",
       "  datetime.date(2020, 6, 23),\n",
       "  datetime.date(2020, 6, 25),\n",
       "  'Area1',\n",
       "  'Area4',\n",
       "  'Delivered',\n",
       "  314],\n",
       " 105: [3,\n",
       "  4,\n",
       "  datetime.date(2020, 8, 29),\n",
       "  datetime.date(2020, 9, 10),\n",
       "  'Area5',\n",
       "  'Area3',\n",
       "  'Delivered',\n",
       "  275],\n",
       " 106: [5,\n",
       "  2,\n",
       "  datetime.date(2020, 6, 28),\n",
       "  None,\n",
       "  'Area3',\n",
       "  'Area1',\n",
       "  'In-Transit',\n",
       "  270]}"
      ]
     },
     "execution_count": 41,
     "metadata": {},
     "output_type": "execute_result"
    }
   ],
   "source": [
    "#Q1. Create a Dictionary of lists to store the information of shipments given in the table\n",
    "\n",
    "shipment_info={101:[1,3,date(2020,3,14),date(2020,3,25),'Area1','Area6','Delivered',198],\n",
    "               102:[4,1,date(2020,6,18),date(2020,7,9),'Area2','Area4','Delivered',275],\n",
    "               103:[2,3,date(2020,12,1),None,'Area5','Area1','In-Transit',200],\n",
    "               104:[1,5,date(2020,6,23),date(2020,6,25),'Area1','Area4','Delivered',314],\n",
    "               105:[3,4,date(2020,8,29),date(2020,9,10),'Area5','Area3','Delivered',275],\n",
    "               106:[5,2,date(2020,6,28),None,'Area3','Area1','In-Transit',270]}\n",
    "shipment_info"
   ]
  },
  {
   "cell_type": "code",
   "execution_count": 42,
   "metadata": {},
   "outputs": [
    {
     "data": {
      "text/plain": [
       "{1: 'Phillip', 2: 'Omega III', 3: 'Ramya', 4: 'Romesh', 5: 'John'}"
      ]
     },
     "execution_count": 42,
     "metadata": {},
     "output_type": "execute_result"
    }
   ],
   "source": [
    "#Q2. Create a Dictionary of to store the information of clients given in the table.\n",
    "\n",
    "client_info= {1:'Phillip',\n",
    "              2:'Omega III',\n",
    "              3:'Ramya',\n",
    "              4:'Romesh',\n",
    "              5:'John'}\n",
    "client_info"
   ]
  },
  {
   "cell_type": "code",
   "execution_count": 52,
   "metadata": {},
   "outputs": [
    {
     "data": {
      "text/plain": [
       "{101: ['Phillip',\n",
       "  'Ramya',\n",
       "  datetime.date(2020, 3, 14),\n",
       "  datetime.date(2020, 3, 25),\n",
       "  'Area1',\n",
       "  'Area6',\n",
       "  'Delivered',\n",
       "  198],\n",
       " 102: ['Romesh',\n",
       "  'Phillip',\n",
       "  datetime.date(2020, 6, 18),\n",
       "  datetime.date(2020, 7, 9),\n",
       "  'Area2',\n",
       "  'Area4',\n",
       "  'Delivered',\n",
       "  275],\n",
       " 103: ['Omega III',\n",
       "  'Ramya',\n",
       "  datetime.date(2020, 12, 1),\n",
       "  None,\n",
       "  'Area5',\n",
       "  'Area1',\n",
       "  'In-Transit',\n",
       "  200],\n",
       " 104: ['Phillip',\n",
       "  'John',\n",
       "  datetime.date(2020, 6, 23),\n",
       "  datetime.date(2020, 6, 25),\n",
       "  'Area1',\n",
       "  'Area4',\n",
       "  'Delivered',\n",
       "  314],\n",
       " 105: ['Ramya',\n",
       "  'Romesh',\n",
       "  datetime.date(2020, 8, 29),\n",
       "  datetime.date(2020, 9, 10),\n",
       "  'Area5',\n",
       "  'Area3',\n",
       "  'Delivered',\n",
       "  275],\n",
       " 106: ['John',\n",
       "  'Omega III',\n",
       "  datetime.date(2020, 6, 28),\n",
       "  None,\n",
       "  'Area3',\n",
       "  'Area1',\n",
       "  'In-Transit',\n",
       "  270]}"
      ]
     },
     "execution_count": 52,
     "metadata": {},
     "output_type": "execute_result"
    }
   ],
   "source": [
    "#Q3. Write a code to replace client’s id with their respective name in shipment dictionary using a loop and dictionary comprehension\n",
    "\n",
    "updated_shipment_info={k:[client_info.get(i) if v.index(i) in [0,1] else i for i in v] for k,v in shipment_info.items()}\n",
    "updated_shipment_info\n",
    "\n",
    "#or\n",
    "#updated_shipment_info={k:[client_info[v[0]],client_info[v[1]],v[2],v[3],v[4],v[5],v[6],v[7]] for k,v in shipment_info.items()}\n",
    "#updated_shipment_info"
   ]
  },
  {
   "cell_type": "code",
   "execution_count": 64,
   "metadata": {},
   "outputs": [],
   "source": [
    "#using for loop\n",
    "\n",
    "#index_list=[0,1]\n",
    "\n",
    "#for index in index_list:\n",
    "#    for values in shipment_info.keys():\n",
    "#        shipment_info[values][index]=client_info[(shipment_info[values][index])]\n",
    "\n",
    "#shipment_info"
   ]
  },
  {
   "cell_type": "code",
   "execution_count": 46,
   "metadata": {},
   "outputs": [
    {
     "name": "stdout",
     "output_type": "stream",
     "text": [
      "['Phillip', 'Ramya', datetime.date(2020, 3, 14), datetime.date(2020, 3, 25), 'Area1', 'Area6', 'Delivered', 198]\n",
      "['Phillip', 'John', datetime.date(2020, 6, 23), datetime.date(2020, 6, 25), 'Area1', 'Area4', 'Delivered', 314]\n"
     ]
    }
   ],
   "source": [
    "#Q4. Print all shipment details that are sent by Phillip\n",
    "\n",
    "for i in updated_shipment_info.keys():\n",
    "    if updated_shipment_info[i][0]=='Phillip':\n",
    "        print (updated_shipment_info[i])"
   ]
  },
  {
   "cell_type": "code",
   "execution_count": 47,
   "metadata": {},
   "outputs": [
    {
     "name": "stdout",
     "output_type": "stream",
     "text": [
      "['Phillip', 'Ramya', datetime.date(2020, 3, 14), datetime.date(2020, 3, 25), 'Area1', 'Area6', 'Delivered', 198]\n",
      "['Omega III', 'Ramya', datetime.date(2020, 12, 1), None, 'Area5', 'Area1', 'In-Transit', 200]\n"
     ]
    }
   ],
   "source": [
    "#Q5. Print all shipment details that are received by Ramya\n",
    "\n",
    "for i in updated_shipment_info.keys():\n",
    "    if updated_shipment_info[i][1]=='Ramya':\n",
    "        print (updated_shipment_info[i])"
   ]
  },
  {
   "cell_type": "code",
   "execution_count": 48,
   "metadata": {},
   "outputs": [
    {
     "name": "stdout",
     "output_type": "stream",
     "text": [
      "['Omega III', 'Ramya', datetime.date(2020, 12, 1), None, 'Area5', 'Area1', 'In-Transit', 200]\n",
      "['John', 'Omega III', datetime.date(2020, 6, 28), None, 'Area3', 'Area1', 'In-Transit', 270]\n"
     ]
    }
   ],
   "source": [
    "#Q6. Print all shipments which are in 'In-Transit' status\n",
    "\n",
    "for i in updated_shipment_info.keys():\n",
    "    if updated_shipment_info[i][6]=='In-Transit':\n",
    "        print (updated_shipment_info[i])"
   ]
  },
  {
   "cell_type": "code",
   "execution_count": 49,
   "metadata": {},
   "outputs": [
    {
     "name": "stdout",
     "output_type": "stream",
     "text": [
      "['Phillip', 'John', datetime.date(2020, 6, 23), datetime.date(2020, 6, 25), 'Area1', 'Area4', 'Delivered', 314]\n"
     ]
    }
   ],
   "source": [
    "#Q7. Print all shipments which are delivered within 7 days of courier Start date\n",
    "\n",
    "for i in updated_shipment_info.keys():\n",
    "     if updated_shipment_info[i][-2]=='Delivered':\n",
    "            if (updated_shipment_info[i][3]-updated_shipment_info[i][2]).days<=7:\n",
    "                print (updated_shipment_info[i])"
   ]
  },
  {
   "cell_type": "code",
   "execution_count": 50,
   "metadata": {},
   "outputs": [
    {
     "name": "stdout",
     "output_type": "stream",
     "text": [
      "['Romesh', 'Phillip', datetime.date(2020, 6, 18), datetime.date(2020, 7, 9), 'Area2', 'Area4', 'Delivered', 275]\n",
      "['Omega III', 'Ramya', datetime.date(2020, 12, 1), None, 'Area5', 'Area1', 'In-Transit', 200]\n",
      "['John', 'Omega III', datetime.date(2020, 6, 28), None, 'Area3', 'Area1', 'In-Transit', 270]\n"
     ]
    }
   ],
   "source": [
    "#Q8. Print all shipments which are delivered after 15 days of courier start date or not yet been delivered.\n",
    "\n",
    "for i in updated_shipment_info.keys():\n",
    "    if updated_shipment_info[i][-2]=='In-Transit':\n",
    "        print (updated_shipment_info[i])\n",
    "    else:\n",
    "        if updated_shipment_info[i][-2]=='Delivered':\n",
    "            if (updated_shipment_info[i][3]-updated_shipment_info[i][2]).days>15:\n",
    "                print (updated_shipment_info[i])"
   ]
  },
  {
   "cell_type": "code",
   "execution_count": 63,
   "metadata": {},
   "outputs": [
    {
     "name": "stdout",
     "output_type": "stream",
     "text": [
      "Shipment ID: 101 \n",
      "Sender's Location: 1 \n",
      "Receiver's Location: 3 \n",
      "All possible routes: [[1, 2, 3], [1, 2, 4, 3]]\n",
      "\n",
      "\n",
      "Shipment ID: 102 \n",
      "Sender's Location: 4 \n",
      "Receiver's Location: 1 \n",
      "All possible routes: [[4, 2, 1], [4, 3, 2, 1]]\n",
      "\n",
      "\n",
      "Shipment ID: 103 \n",
      "Sender's Location: 2 \n",
      "Receiver's Location: 3 \n",
      "All possible routes: [[2, 3], [2, 4, 3]]\n",
      "\n",
      "\n",
      "Shipment ID: 104 \n",
      "Sender's Location: 1 \n",
      "Receiver's Location: 5 \n",
      "All possible routes: [[1, 2, 3, 4, 5], [1, 2, 4, 5]]\n",
      "\n",
      "\n",
      "Shipment ID: 105 \n",
      "Sender's Location: 3 \n",
      "Receiver's Location: 4 \n",
      "All possible routes: [[3, 2, 4], [3, 4]]\n",
      "\n",
      "\n",
      "Shipment ID: 106 \n",
      "Sender's Location: 5 \n",
      "Receiver's Location: 2 \n",
      "All possible routes: [[5, 4, 2], [5, 4, 3, 2]]\n",
      "\n",
      "\n"
     ]
    }
   ],
   "source": [
    "#Q9. Write a function find_all_routes to display all possible routes from senders location to receivers location given in the dictionary for each shipment.\n",
    "\n",
    "# creating matrix for the graph\n",
    "matrix=[[0,1,0,0,0,1],[1,0,1,1,0,0],[0,1,0,1,0,0],[0,1,1,0,1,0],[0,0,0,1,0,0],[1,0,0,0,0,0]]\n",
    "\n",
    "\n",
    "# intermediate variables used for converting a matrix to graph\n",
    "x=[]\n",
    "y=[] \n",
    "a1=[] \n",
    "b1=[]\n",
    "\n",
    "\n",
    "# converting matrix to graph\n",
    "for i in range(0,len(matrix)):\n",
    "    for j in range(0,len(matrix[0])):\n",
    "        if matrix[i][j]==1:\n",
    "            x.append(j)\n",
    "    y.append(x)\n",
    "    x=[]\n",
    "    \n",
    "\n",
    "for i in range(0,len(y)):\n",
    "    for j in range(0,len(y[i])):\n",
    "        a=y[i][j]+1\n",
    "        a1.append(a)\n",
    "    b1.append(a1)\n",
    "    a1=[]\n",
    "    \n",
    "    \n",
    "graph={}\n",
    "for i in range(1,len(b1)+1):\n",
    "    graph[i]=b1[i-1]\n",
    "    \n",
    "    \n",
    "# function to find all paths\n",
    "def find_all_routes(graph,start,end,path=[]):\n",
    "    path=path+[start]\n",
    "    if start==end:\n",
    "        return [path]\n",
    "    if start not in graph.keys():\n",
    "        return []\n",
    "    paths=[]\n",
    "    for node in graph[start]:\n",
    "        if node not in path:\n",
    "            newpaths=find_all_routes(graph,node,end,path)\n",
    "            for newpath in newpaths:\n",
    "                paths.append(newpath)\n",
    "    return paths\n",
    "\n",
    "\n",
    "# creation of shipment table\n",
    "shipment_info={101:[1,3,date(2020,3,14),date(2020,3,25),'Area1','Area6','Delivered',198],\n",
    "               102:[4,1,date(2020,6,18),date(2020,7,9),'Area2','Area4','Delivered',275],\n",
    "               103:[2,3,date(2020,12,1),None,'Area5','Area1','In-Transit',200],\n",
    "               104:[1,5,date(2020,6,23),date(2020,6,25),'Area1','Area4','Delivered',314],\n",
    "               105:[3,4,date(2020,8,29),date(2020,9,10),'Area5','Area3','Delivered',275],\n",
    "               106:[5,2,date(2020,6,28),None,'Area3','Area1','In-Transit',270]}\n",
    "               \n",
    "\n",
    "# loop to iterate through shipment table for accessing sender and location number  \n",
    "for i in range(101,107):\n",
    "    all_paths=find_all_routes(graph,shipments_info[i][0],shipments_info[i][1])\n",
    "    print('Shipment ID:', i,\n",
    "          \"\\nSender's Location:\",\n",
    "          shipments_info[i][0],\n",
    "          \"\\nReceiver's Location:\",\n",
    "          shipments_info[i][1],\n",
    "          '\\nAll possible routes:',all_paths)\n",
    "    \n",
    "    print('\\n')"
   ]
  }
 ],
 "metadata": {
  "kernelspec": {
   "display_name": "Python 3",
   "language": "python",
   "name": "python3"
  },
  "language_info": {
   "codemirror_mode": {
    "name": "ipython",
    "version": 3
   },
   "file_extension": ".py",
   "mimetype": "text/x-python",
   "name": "python",
   "nbconvert_exporter": "python",
   "pygments_lexer": "ipython3",
   "version": "3.7.1"
  }
 },
 "nbformat": 4,
 "nbformat_minor": 4
}
